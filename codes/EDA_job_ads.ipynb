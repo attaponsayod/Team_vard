{
 "cells": [
  {
   "cell_type": "markdown",
   "metadata": {},
   "source": [
    "# EDA on jobtech API\n",
    "\n",
    "- arbetsförmedlingen API\n"
   ]
  },
  {
   "cell_type": "code",
   "execution_count": 6,
   "metadata": {},
   "outputs": [
    {
     "name": "stdout",
     "output_type": "stream",
     "text": [
      "Fysiklärare på Sveriges bästa och mest personliga bemanningsföretag!, PersonalExpressen AB\n",
      "Lärare i trä- och metallslöjd på Sveriges bästa bemanningsföretag!, PersonalExpressen AB\n",
      "Lärare i textilslöjd på Sveriges mest personliga bemanningsföretag!, PersonalExpressen AB\n",
      "Jobba som kemilärare på Sveriges mest personliga bemanningsföretag!, PersonalExpressen AB\n",
      "Jobba som matematiklärare på Sveriges mest personliga bemanningsföretag!, PersonalExpressen AB\n",
      "Lärare i engelska på Sveriges bästa och mest personliga bemanningsföretag!, PersonalExpressen AB\n",
      "Svensklärare på Sveriges bästa och mest personliga bemanningsföretag!, PersonalExpressen AB\n",
      "Lärare i webbutveckling 1 och 2 på Sveriges bästa bemanningsföretag!, PersonalExpressen AB\n",
      "Lärare i pastoralteologi med inriktning på Teologi och samhälle, Trossamfundet Svenska Kyrkan\n",
      "Lärare åk 4-6 till Storvretaskolan, Uppsala kommun\n",
      "Jobba som musiklärare på Sveriges mest personliga bemanningsföretag!, PersonalExpressen AB\n",
      "Yrkesgymnasiet i Uppsala söker en frisörlärare, Edukatos AB\n",
      "Lärare i Svenska, STEAM Education holding AB\n",
      "Lärare matematik åk 6-9 till Gränbyskolan (vikariat), Uppsala kommun\n",
      "Jobba som lärare i gränssnittsdesign på Sveriges bästa bemanningsföretag!, PersonalExpressen AB\n",
      "Förskollärare och lärare till olika skolformer, Clockwork Bemanning & Rekrytering AB\n",
      "Yrkeslärare fordon, Bergstrands Gymnasium AB\n",
      "Jobba som lärare i programmering på Sveriges bästa bemanningsföretag!, PersonalExpressen AB\n",
      "Jobba som bildlärare på Sveriges mest personliga bemanningsföretag!, PersonalExpressen AB\n",
      "Jobba som speciallärare på Sveriges mest personliga bemanningsföretag!, PersonalExpressen AB\n",
      "Jobba som lärare i tyska på Sveriges mest personliga bemanningsföretag!, PersonalExpressen AB\n",
      "Jobba som lärare i spanska på Sveriges mest personliga bemanningsföretag!, PersonalExpressen AB\n",
      "Lärare i Svenska, STEAM Education holding AB\n",
      "Lärare i Svenska, STEAM Education holding AB\n",
      "Lärare i ryska till Försvarets tolkskola, Försvarsmakten\n",
      "Lärare i Idrott och hälsa, Statens Institutionsstyrelse\n",
      "Lärare i Svenska, STEAM Education holding AB\n",
      "Lärare i Svenska, STEAM Education holding AB\n",
      "JENSEN grundskola Kåbo F-3 söker engagerad lärare i fritidshem, Jensen Education AB\n",
      "Jobba som lärare på Sveriges bästa och mest personliga bemanningsföretag!, PersonalExpressen AB\n",
      "Jobba som lärare på Sveriges bästa och mest personliga bemanningsföretag!, PersonalExpressen AB\n",
      "Jobba som lärare på Sveriges bästa och mest personliga bemanningsföretag!, PersonalExpressen AB\n",
      "Jobba som lärare på Sveriges bästa och mest personliga bemanningsföretag!, PersonalExpressen AB\n",
      "\n",
      "Number of hits = 33\n"
     ]
    }
   ],
   "source": [
    "import requests\n",
    "import json\n",
    "\n",
    "\n",
    "url = 'https://jobsearch.api.jobtechdev.se'\n",
    "url_for_search = f\"{url}/search\"\n",
    "\n",
    "\n",
    "def _get_ads(params):\n",
    "    headers = {'accept': 'application/json'}\n",
    "    response = requests.get(url_for_search, headers=headers, params=params)\n",
    "    response.raise_for_status()  # check for http errors\n",
    "    return json.loads(response.content.decode('utf8'))\n",
    "\n",
    "\n",
    "def example_search_return_number_of_hits(query):\n",
    "    # limit: 0 means no ads, just a value of how many ads were found.\n",
    "    search_params = {'q': query, 'limit': 0}\n",
    "    json_response = _get_ads(search_params)\n",
    "    number_of_hits = json_response['total']['value']\n",
    "    print(f\"\\nNumber of hits = {number_of_hits}\")\n",
    "\n",
    "\n",
    "def example_search_loop_through_hits(query):\n",
    "    # limit = 100 is the max number of hits that can be returned.\n",
    "    # If there are more (which you find with ['total']['value'] in the json response)\n",
    "    # you have to use offset and multiple requests to get all ads.\n",
    "    search_params = {'q': query, 'limit': 100}\n",
    "    json_response = _get_ads(search_params)\n",
    "    hits = json_response['hits']\n",
    "    for hit in hits:\n",
    "        print(f\"{hit['headline']}, {hit['employer']['name']}\")\n",
    "\n",
    "\n",
    "if __name__ == '__main__':\n",
    "    query = 'vård'\n",
    "    example_search_loop_through_hits(query)\n",
    "    example_search_return_number_of_hits(query)\n"
   ]
  },
  {
   "cell_type": "code",
   "execution_count": null,
   "metadata": {},
   "outputs": [],
   "source": []
  }
 ],
 "metadata": {
  "kernelspec": {
   "display_name": ".venv",
   "language": "python",
   "name": "python3"
  },
  "language_info": {
   "codemirror_mode": {
    "name": "ipython",
    "version": 3
   },
   "file_extension": ".py",
   "mimetype": "text/x-python",
   "name": "python",
   "nbconvert_exporter": "python",
   "pygments_lexer": "ipython3",
   "version": "3.11.4"
  }
 },
 "nbformat": 4,
 "nbformat_minor": 2
}
